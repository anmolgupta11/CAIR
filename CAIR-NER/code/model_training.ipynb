{
 "cells": [
  {
   "cell_type": "code",
   "execution_count": null,
   "metadata": {
    "colab": {
     "base_uri": "https://localhost:8080/",
     "height": 86
    },
    "colab_type": "code",
    "executionInfo": {
     "elapsed": 3692,
     "status": "ok",
     "timestamp": 1562215855445,
     "user": {
      "displayName": "Anmol Gupta",
      "photoUrl": "",
      "userId": "16230495728728711823"
     },
     "user_tz": -330
    },
    "id": "6wL_aUTicb9U",
    "outputId": "7ed0aa61-36d5-4cc8-bb73-eb6434dd68e2"
   },
   "outputs": [],
   "source": [
    "!unzip Tagger.zip"
   ]
  },
  {
   "cell_type": "code",
   "execution_count": null,
   "metadata": {
    "colab": {
     "base_uri": "https://localhost:8080/",
     "height": 1000
    },
    "colab_type": "code",
    "executionInfo": {
     "elapsed": 34414,
     "status": "ok",
     "timestamp": 1562215886208,
     "user": {
      "displayName": "Anmol Gupta",
      "photoUrl": "",
      "userId": "16230495728728711823"
     },
     "user_tz": -330
    },
    "id": "-vgpiLMUeiEY",
    "outputId": "c297646f-18b7-4ce1-9b49-bce58030e20c"
   },
   "outputs": [],
   "source": [
    "pip install flair"
   ]
  },
  {
   "cell_type": "code",
   "execution_count": null,
   "metadata": {
    "colab": {
     "base_uri": "https://localhost:8080/",
     "height": 104
    },
    "colab_type": "code",
    "executionInfo": {
     "elapsed": 68732,
     "status": "ok",
     "timestamp": 1562215920554,
     "user": {
      "displayName": "Anmol Gupta",
      "photoUrl": "",
      "userId": "16230495728728711823"
     },
     "user_tz": -330
    },
    "id": "B-KK7KO9ei2K",
    "outputId": "ef067616-bcb3-48d6-c2bb-56b8253c5917"
   },
   "outputs": [],
   "source": [
    "from flair.data import Corpus\n",
    "from flair.datasets import ColumnCorpus\n",
    "\n",
    "# define columns\n",
    "columns = {0: 'text', 1:'ner'}\n",
    "\n",
    "# this is the folder in which train, test and dev files reside\n",
    "data_folder = 'Tagger'\n",
    "\n",
    "# init a corpus using column format, data folder and the names of the train, dev and test files\n",
    "corpus: Corpus = ColumnCorpus(data_folder, columns,\n",
    "                              train_file='training.newtagsf.txt',\n",
    "                              test_file='evaluation.newtagsf.txt',\n",
    "                              dev_file = 'development.newtagsf.txt'\n",
    "                              )\n",
    "print(corpus)"
   ]
  },
  {
   "cell_type": "code",
   "execution_count": null,
   "metadata": {
    "colab": {
     "base_uri": "https://localhost:8080/",
     "height": 193
    },
    "colab_type": "code",
    "executionInfo": {
     "elapsed": 2598923,
     "status": "ok",
     "timestamp": 1562218633862,
     "user": {
      "displayName": "Anmol Gupta",
      "photoUrl": "",
      "userId": "16230495728728711823"
     },
     "user_tz": -330
    },
    "id": "VTx4SuttfHAE",
    "outputId": "1d3bb595-31ac-4f25-e59a-bf17ea02d03c"
   },
   "outputs": [],
   "source": [
    "from flair.embeddings import TokenEmbeddings, WordEmbeddings, StackedEmbeddings, FlairEmbeddings\n",
    "from flair.trainers import ModelTrainer\n",
    "from typing import List\n",
    "\n",
    "# 1. get the corpus\n",
    "\n",
    "print(corpus)\n",
    "\n",
    "# 2. what tag do we want to predict?\n",
    "tag_type = 'ner'\n",
    "\n",
    "# 3. make the tag dictionary from the corpus\n",
    "tag_dictionary = corpus.make_tag_dictionary(tag_type=tag_type)\n",
    "print(tag_dictionary.idx2item)\n",
    "\n",
    "# 4. initialize embeddings\n",
    "embedding_types: List[TokenEmbeddings] = [\n",
    "    WordEmbeddings('glove'), \n",
    "    FlairEmbeddings('news-forward'),\n",
    "    FlairEmbeddings('news-backward'),\n",
    "    \n",
    "]\n",
    "\n",
    "embeddings: StackedEmbeddings = StackedEmbeddings(embeddings=embedding_types)\n",
    "\n",
    "# 5. initialize sequence tagger\n",
    "from flair.models import SequenceTagger\n",
    "\n",
    "tagger: SequenceTagger = SequenceTagger(hidden_size=256,\n",
    "                                        embeddings=embeddings,\n",
    "                                        tag_dictionary=tag_dictionary,\n",
    "                                        tag_type=tag_type,\n",
    "                                        use_crf=True)\n",
    "\n",
    "# 6. initialize trainer\n",
    "trainer: ModelTrainer = ModelTrainer(tagger, corpus)\n",
    "\n",
    "# 7. find learning rate\n",
    "learning_rate_tsv = trainer.find_learning_rate('resources/taggers/example-ner',\n",
    "                                                    'learning_rate.tsv')\n",
    "\n",
    "# 8. plot the learning rate finder curve\n",
    "from flair.visual.training_curves import Plotter\n",
    "plotter = Plotter()\n",
    "plotter.plot_learning_rate(learning_rate_tsv)"
   ]
  },
  {
   "cell_type": "code",
   "execution_count": null,
   "metadata": {
    "colab": {
     "base_uri": "https://localhost:8080/",
     "height": 104
    },
    "colab_type": "code",
    "id": "aoTbfPyVflJC",
    "outputId": "b1984daf-3c77-43e4-f2fb-2df3efa18864"
   },
   "outputs": [],
   "source": [
    "# 6. initialize trainer\n",
    "from flair.trainers import ModelTrainer\n",
    "\n",
    "trainer: ModelTrainer = ModelTrainer(tagger, corpus)\n",
    "\n",
    "# 7. start training\n",
    "trainer.train('resources/taggers/example-ner',\n",
    "              learning_rate=0.0173780082874938,\n",
    "              mini_batch_size=20,\n",
    "              max_epochs=10)\n",
    "\n",
    "# 8. plot training curves (optional)\n",
    "from flair.visual.training_curves import Plotter\n",
    "plotter = Plotter()\n",
    "plotter.plot_training_curves('resources/taggers/example-ner/loss.tsv')\n",
    "plotter.plot_weights('resources/taggers/example-ner/weights.txt')"
   ]
  },
  {
   "cell_type": "code",
   "execution_count": null,
   "metadata": {
    "colab": {},
    "colab_type": "code",
    "id": "kfvac3FMIs82"
   },
   "outputs": [],
   "source": []
  }
 ],
 "metadata": {
  "colab": {
   "collapsed_sections": [],
   "name": "model_training.ipynb",
   "provenance": [],
   "version": "0.3.2"
  },
  "kernelspec": {
   "display_name": "Python 3",
   "language": "python",
   "name": "python3"
  },
  "language_info": {
   "codemirror_mode": {
    "name": "ipython",
    "version": 3
   },
   "file_extension": ".py",
   "mimetype": "text/x-python",
   "name": "python",
   "nbconvert_exporter": "python",
   "pygments_lexer": "ipython3",
   "version": "3.7.0"
  }
 },
 "nbformat": 4,
 "nbformat_minor": 1
}
